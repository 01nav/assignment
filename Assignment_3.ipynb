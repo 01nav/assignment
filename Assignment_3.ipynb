{
 "cells": [
  {
   "cell_type": "raw",
   "id": "bc7111c3",
   "metadata": {},
   "source": [
    "1. Why are functions advantageous to have in your programs?"
   ]
  },
  {
   "cell_type": "raw",
   "id": "9cfabb37",
   "metadata": {},
   "source": [
    "Functions reduce the need for duplicate code.This makes programs shorter,easier to read,and easier to update"
   ]
  },
  {
   "cell_type": "raw",
   "id": "98c61824",
   "metadata": {},
   "source": [
    "2. When does the code in a function run: when it's specified or when it's called?"
   ]
  },
  {
   "cell_type": "raw",
   "id": "b9ec5bd0",
   "metadata": {},
   "source": [
    "We often want to be able to re-execute blocks of code when we are writing programs, without having to re-write the block of code entirely. We need a way of grouping code together and giving it a name, so that we can call it by that name later, and that's what we call a function"
   ]
  },
  {
   "cell_type": "raw",
   "id": "f30f7141",
   "metadata": {},
   "source": [
    "3. What statement creates a function?"
   ]
  },
  {
   "cell_type": "raw",
   "id": "815e7b19",
   "metadata": {},
   "source": [
    "The “def” keyword is a statement for defining a function in Python. "
   ]
  },
  {
   "cell_type": "raw",
   "id": "10a40f73",
   "metadata": {},
   "source": [
    "4. What is the difference between a function and a function call?"
   ]
  },
  {
   "cell_type": "raw",
   "id": "34ecb452",
   "metadata": {},
   "source": [
    "A function is procedure to achieve a particular result while function call is using this function to achive that task"
   ]
  },
  {
   "cell_type": "raw",
   "id": "c9092266",
   "metadata": {},
   "source": [
    "5. How many global scopes are there in a Python program? How many local scopes?"
   ]
  },
  {
   "cell_type": "raw",
   "id": "0707608f",
   "metadata": {},
   "source": [
    "built-in scope\n",
    "local scope\n",
    "enclosing scope \n",
    "global scope"
   ]
  },
  {
   "cell_type": "raw",
   "id": "12763080",
   "metadata": {},
   "source": [
    "6. What happens to variables in a local scope when the function call returns?"
   ]
  },
  {
   "cell_type": "raw",
   "id": "e6f04efa",
   "metadata": {},
   "source": [
    "A local variable retains its  value until the function is called "
   ]
  },
  {
   "cell_type": "raw",
   "id": "ed7a050f",
   "metadata": {},
   "source": [
    "7. What is the concept of a return value? Is it possible to have a return value in an expression?"
   ]
  },
  {
   "cell_type": "raw",
   "id": "e12a9780",
   "metadata": {},
   "source": [
    "A return is a value that a function returns to the calling script or function when it completes its task. A return value can be any one of the four variable types: handle, integer, object, or string. The type of value your function returns depends largely on the task it performs."
   ]
  },
  {
   "cell_type": "raw",
   "id": "cfe01ec2",
   "metadata": {},
   "source": [
    "8. If a function does not have a return statement, what is the return value of a call to that function?"
   ]
  },
  {
   "cell_type": "raw",
   "id": "2b73e515",
   "metadata": {},
   "source": [
    "Every function returns something. If there are no return statements, then it returns None. If the return statement contains an expression, it's evaluated first and then the value is returned. The return statement terminates the function execution."
   ]
  },
  {
   "cell_type": "raw",
   "id": "1b8607b3",
   "metadata": {},
   "source": [
    "9. How do you make a function variable refer to the global variable?"
   ]
  },
  {
   "cell_type": "raw",
   "id": "ae58a3f6",
   "metadata": {},
   "source": [
    "To refer to a global variable in a function, you can use the global keyword to declare which variables are global"
   ]
  },
  {
   "cell_type": "raw",
   "id": "4a1f84a0",
   "metadata": {},
   "source": [
    "10. What is the data type of None?"
   ]
  },
  {
   "cell_type": "raw",
   "id": "ccea2528",
   "metadata": {},
   "source": [
    "None is used to define a null value.It is a data type of the class NoneType object"
   ]
  },
  {
   "cell_type": "raw",
   "id": "501fa7b0",
   "metadata": {},
   "source": [
    "11. What does the sentence import areallyourpetsnamederic do?"
   ]
  },
  {
   "cell_type": "raw",
   "id": "e636de92",
   "metadata": {},
   "source": []
  },
  {
   "cell_type": "raw",
   "id": "d621bc40",
   "metadata": {},
   "source": [
    "12. If you had a bacon() feature in a spam module, what would you call it after importing spam?"
   ]
  },
  {
   "cell_type": "raw",
   "id": "1b0d0ac7",
   "metadata": {},
   "source": [
    "Both lists and strings can be passed to len(), have indexes and slices, be used in for loops, be concatenated or replicated, and be used with the in and not in operators"
   ]
  },
  {
   "cell_type": "raw",
   "id": "c20eba1c",
   "metadata": {},
   "source": [
    "13. What can you do to save a programme from crashing if it encounters an error?"
   ]
  },
  {
   "cell_type": "raw",
   "id": "8ec19cd1",
   "metadata": {},
   "source": [
    "When it encounters an error, the control is passed to the except block, skipping the code in between. As seen in the above code, we have moved our code inside a try and except statement. Try running the program and it should throw an error message instead of crashing the program"
   ]
  },
  {
   "cell_type": "raw",
   "id": "f40617e0",
   "metadata": {},
   "source": [
    "14. What is the purpose of the try clause? What is the purpose of the except clause?"
   ]
  },
  {
   "cell_type": "raw",
   "id": "03d45cb2",
   "metadata": {},
   "source": [
    "The try block lets you test a block of code for errors. The except block lets you handle the error. The else block lets you execute code when there is no error."
   ]
  }
 ],
 "metadata": {
  "kernelspec": {
   "display_name": "Python 3",
   "language": "python",
   "name": "python3"
  },
  "language_info": {
   "codemirror_mode": {
    "name": "ipython",
    "version": 3
   },
   "file_extension": ".py",
   "mimetype": "text/x-python",
   "name": "python",
   "nbconvert_exporter": "python",
   "pygments_lexer": "ipython3",
   "version": "3.8.8"
  }
 },
 "nbformat": 4,
 "nbformat_minor": 5
}
