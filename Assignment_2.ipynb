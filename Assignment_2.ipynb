{
 "cells": [
  {
   "cell_type": "raw",
   "id": "8de9c891",
   "metadata": {},
   "source": [
    "1.What are the two values of the Boolean data type? How do you write them?"
   ]
  },
  {
   "cell_type": "raw",
   "id": "8abf43bc",
   "metadata": {},
   "source": [
    "Boolean value can be a two type onle ,either TRUE or FAlSE"
   ]
  },
  {
   "cell_type": "code",
   "execution_count": null,
   "id": "eaace025",
   "metadata": {},
   "outputs": [],
   "source": [
    "a=True\n",
    "print(type(a))\n",
    "\n",
    "b=False\n",
    "print(type(b))"
   ]
  },
  {
   "cell_type": "raw",
   "id": "38bf3401",
   "metadata": {},
   "source": [
    "2. What are the three different types of Boolean operators?"
   ]
  },
  {
   "cell_type": "raw",
   "id": "d939bb11",
   "metadata": {},
   "source": [
    "They connect your search words together to either narrow or broaden your set of results.The three basic boolean operators are: AND, OR, and NOT"
   ]
  },
  {
   "cell_type": "raw",
   "id": "8c37d1ad",
   "metadata": {},
   "source": [
    "3. Make a list of each Boolean operator's truth tables (i.e. every possible combination of Boolean values for the operator and    what it evaluate )."
   ]
  },
  {
   "cell_type": "code",
   "execution_count": null,
   "id": "9c183fd0",
   "metadata": {},
   "outputs": [],
   "source": []
  },
  {
   "cell_type": "raw",
   "id": "9585df39",
   "metadata": {},
   "source": [
    "4. What are the values of the following expressions?"
   ]
  },
  {
   "cell_type": "code",
   "execution_count": null,
   "id": "241ab030",
   "metadata": {},
   "outputs": [],
   "source": [
    "(5>4) or (3==5)"
   ]
  },
  {
   "cell_type": "code",
   "execution_count": null,
   "id": "b198b500",
   "metadata": {},
   "outputs": [],
   "source": [
    "not(5>4)"
   ]
  },
  {
   "cell_type": "code",
   "execution_count": null,
   "id": "6723f7f0",
   "metadata": {},
   "outputs": [],
   "source": [
    "(5>4) or (3==5)"
   ]
  },
  {
   "cell_type": "code",
   "execution_count": null,
   "id": "e43af0c0",
   "metadata": {},
   "outputs": [],
   "source": [
    "not((5>4)or(3==5))"
   ]
  },
  {
   "cell_type": "code",
   "execution_count": null,
   "id": "5de6aab0",
   "metadata": {},
   "outputs": [],
   "source": [
    "(True and True) and (True==False)"
   ]
  },
  {
   "cell_type": "code",
   "execution_count": null,
   "id": "95438d1e",
   "metadata": {},
   "outputs": [],
   "source": [
    "(not False) or(not True)"
   ]
  },
  {
   "cell_type": "raw",
   "id": "2e58a96e",
   "metadata": {},
   "source": [
    "5. What are the six comparison operators?"
   ]
  },
  {
   "cell_type": "raw",
   "id": "0452836a",
   "metadata": {},
   "source": [
    "< less than  x<y\n",
    "> Greater than x>y\n",
    "== Equal to x==y\n",
    "!= Not equal to x!=y\n",
    ">= Greater than or Equal to >=\n",
    "<= Less than or Equal to <="
   ]
  },
  {
   "cell_type": "raw",
   "id": "ee3807f1",
   "metadata": {},
   "source": [
    "6. How do you tell the difference between the equal to and assignment operators?Describe a condition and when you would use one."
   ]
  },
  {
   "cell_type": "raw",
   "id": "298bec61",
   "metadata": {},
   "source": [
    "= It is used for assigning the value to a variable\n",
    "== It is a relational or comparsion operator"
   ]
  },
  {
   "cell_type": "code",
   "execution_count": null,
   "id": "7dffc8e2",
   "metadata": {},
   "outputs": [],
   "source": [
    "a=20\n",
    "b=30"
   ]
  },
  {
   "cell_type": "code",
   "execution_count": null,
   "id": "2ed0fb5c",
   "metadata": {},
   "outputs": [],
   "source": [
    "a==b"
   ]
  },
  {
   "cell_type": "raw",
   "id": "206528f7",
   "metadata": {},
   "source": [
    "7. Identify the three blocks in this code:"
   ]
  },
  {
   "cell_type": "code",
   "execution_count": null,
   "id": "ffd4a756",
   "metadata": {},
   "outputs": [],
   "source": [
    "spam = 4\n",
    "if spam == 10:\n",
    "    print('eggs')\n",
    "elif spam < 5:\n",
    "    print('bacon')\n",
    "else:\n",
    "    print('ham')\n",
    "    print('spam')\n",
    "    print('spam')\n"
   ]
  },
  {
   "cell_type": "raw",
   "id": "68127c2b",
   "metadata": {},
   "source": [
    "8. Write code that prints Hello if 1 is stored in spam, prints Howdy if 2 is stored in spam, and prints Greetings! if anything else is stored in spam."
   ]
  },
  {
   "cell_type": "code",
   "execution_count": null,
   "id": "7304c918",
   "metadata": {},
   "outputs": [],
   "source": [
    "spam = int(input())\n",
    "if spam==1:\n",
    "    print('Hello')\n",
    "elif spam ==2:\n",
    "    print('Howdy')\n",
    "else:\n",
    "    print('please select right key')"
   ]
  },
  {
   "cell_type": "raw",
   "id": "ff0fb561",
   "metadata": {},
   "source": [
    "9.If your programme is stuck in an endless loop, what keys you’ll press?"
   ]
  },
  {
   "cell_type": "raw",
   "id": "c39edd8c",
   "metadata": {},
   "source": [
    "Ctrl + c"
   ]
  },
  {
   "cell_type": "raw",
   "id": "6af27d6c",
   "metadata": {},
   "source": [
    "10. How can you tell the difference between break and continue?"
   ]
  },
  {
   "cell_type": "raw",
   "id": "fada76c5",
   "metadata": {},
   "source": [
    "Break statment ==The break statement is usually used with the switch statement, and it can also use it within the while loop,                    do-while loop, or the for-loop.\n",
    "Continue statment ==The continue statement is not used with the switch statement, but it can be used within the while loop, do-                     while loop, or for-loop"
   ]
  },
  {
   "cell_type": "raw",
   "id": "1fb3d120",
   "metadata": {},
   "source": [
    "11. In a for loop, what is the difference between range(10), range(0, 10), and range(0, 10, 1)?"
   ]
  },
  {
   "cell_type": "code",
   "execution_count": null,
   "id": "17ca0609",
   "metadata": {},
   "outputs": [],
   "source": [
    "for i in range(10):\n",
    "    print(i)"
   ]
  },
  {
   "cell_type": "code",
   "execution_count": null,
   "id": "17ee128e",
   "metadata": {},
   "outputs": [],
   "source": [
    "for j in range(0,10):\n",
    "    print(j)"
   ]
  },
  {
   "cell_type": "code",
   "execution_count": null,
   "id": "77543cd7",
   "metadata": {},
   "outputs": [],
   "source": [
    "for a in range(0,10,1):\n",
    "    print(a)"
   ]
  },
  {
   "cell_type": "raw",
   "id": "dd1d2279",
   "metadata": {},
   "source": [
    "12. Write a short program that prints the numbers 1 to 10 using a for loop. Then write an equivalent program that prints the numbers 1 to 10 using a while loop"
   ]
  },
  {
   "cell_type": "code",
   "execution_count": null,
   "id": "bed5ec5c",
   "metadata": {},
   "outputs": [],
   "source": [
    "for i in range(1,11):\n",
    "    print(i) "
   ]
  },
  {
   "cell_type": "code",
   "execution_count": 1,
   "id": "be547317",
   "metadata": {},
   "outputs": [
    {
     "name": "stdout",
     "output_type": "stream",
     "text": [
      "0\n",
      "1\n",
      "2\n",
      "3\n",
      "4\n",
      "5\n",
      "6\n",
      "7\n",
      "8\n",
      "9\n",
      "10\n"
     ]
    }
   ],
   "source": [
    "i=0\n",
    "while i<=10:\n",
    "    print(i)\n",
    "    i+=1"
   ]
  },
  {
   "cell_type": "raw",
   "id": "96e08c12",
   "metadata": {},
   "source": [
    "13. If you had a function named bacon() inside a module named spam, how would you call it after importing spam?"
   ]
  },
  {
   "cell_type": "raw",
   "id": "d7f5f409",
   "metadata": {},
   "source": [
    "This function can be called with spam.bacon()"
   ]
  }
 ],
 "metadata": {
  "kernelspec": {
   "display_name": "Python 3",
   "language": "python",
   "name": "python3"
  },
  "language_info": {
   "codemirror_mode": {
    "name": "ipython",
    "version": 3
   },
   "file_extension": ".py",
   "mimetype": "text/x-python",
   "name": "python",
   "nbconvert_exporter": "python",
   "pygments_lexer": "ipython3",
   "version": "3.8.8"
  }
 },
 "nbformat": 4,
 "nbformat_minor": 5
}
