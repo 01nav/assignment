{
 "cells": [
  {
   "cell_type": "markdown",
   "id": "f236b369",
   "metadata": {},
   "source": [
    "1. What exactly is []?"
   ]
  },
  {
   "cell_type": "markdown",
   "id": "4cf8e9f0",
   "metadata": {},
   "source": [
    "In Python, a list is created by placing elements inside square brackets [] , separated by commas. A list can have any number of items and they may be of different types (integer, float, string, etc.)"
   ]
  },
  {
   "cell_type": "markdown",
   "id": "e1a4e89c",
   "metadata": {},
   "source": [
    "2. In a list of values stored in a variable called spam, how would you assign the value 'hello' as the third value? (Assume [2, 4, 6, 8, 10] are in spam.)\n",
    "Let's pretend the spam includes the list ['a', 'b', 'c', 'd'] for the next three queries."
   ]
  },
  {
   "cell_type": "markdown",
   "id": "1b67badb",
   "metadata": {},
   "source": [
    "spam[2] = 'hello' (Notice that the third value in a list is at index 2 because the first index is 0.)"
   ]
  },
  {
   "cell_type": "markdown",
   "id": "0aa0b6bc",
   "metadata": {},
   "source": [
    "3. What is the value of spam[int(int('3' * 2) / 11)]?"
   ]
  },
  {
   "cell_type": "markdown",
   "id": "9e9721c9",
   "metadata": {},
   "source": [
    " '3' * 2 is the string '33', which is passed to int() before being divided by 11. This eventually evaluates to 3."
   ]
  },
  {
   "cell_type": "markdown",
   "id": "4260282e",
   "metadata": {},
   "source": [
    "4. What is the value of spam[-1]?"
   ]
  },
  {
   "cell_type": "markdown",
   "id": "a1f7e88f",
   "metadata": {},
   "source": [
    "Negative index count from the end"
   ]
  },
  {
   "cell_type": "markdown",
   "id": "4a886985",
   "metadata": {},
   "source": [
    "5. What is the value of spam[:2]?\n",
    "Let's pretend bacon has the list [3.14, 'cat,' 11, 'cat,' True] for the next three questions."
   ]
  },
  {
   "cell_type": "markdown",
   "id": "465049a4",
   "metadata": {},
   "source": [
    "['a','b']"
   ]
  },
  {
   "cell_type": "markdown",
   "id": "415e582f",
   "metadata": {},
   "source": [
    "6. What is the value of bacon.index('cat')?"
   ]
  },
  {
   "cell_type": "markdown",
   "id": "43864629",
   "metadata": {},
   "source": [
    "1"
   ]
  },
  {
   "cell_type": "markdown",
   "id": "145acc87",
   "metadata": {},
   "source": [
    "7. How does bacon.append(99) change the look of the list value in bacon?"
   ]
  },
  {
   "cell_type": "markdown",
   "id": "4c3fea2b",
   "metadata": {},
   "source": [
    "[3.14, 'cat', 11, 'cat', True, 99]"
   ]
  },
  {
   "cell_type": "markdown",
   "id": "4414bdcf",
   "metadata": {},
   "source": [
    "8. How does bacon.remove('cat') change the look of the list in bacon?"
   ]
  },
  {
   "cell_type": "markdown",
   "id": "03b30262",
   "metadata": {},
   "source": [
    "[3.14, 11, 'cat', True, 99]"
   ]
  },
  {
   "cell_type": "markdown",
   "id": "35c8bc50",
   "metadata": {},
   "source": [
    "9. What are the list concatenation and list replication operators?"
   ]
  },
  {
   "cell_type": "markdown",
   "id": "67a1c653",
   "metadata": {},
   "source": [
    "The operator for list concatenation is +, while the operator for replication is *. (This is the same as for strings.)"
   ]
  },
  {
   "cell_type": "markdown",
   "id": "be5dd161",
   "metadata": {},
   "source": [
    "10. What is difference between the list methods append() and insert()?"
   ]
  },
  {
   "cell_type": "markdown",
   "id": "f5184606",
   "metadata": {},
   "source": [
    "While append() will add values only to the end of a list, insert() can add them anywhere in the list."
   ]
  },
  {
   "cell_type": "markdown",
   "id": "6dedaa9d",
   "metadata": {},
   "source": [
    "11. What are the two methods for removing items from a list?"
   ]
  },
  {
   "cell_type": "markdown",
   "id": "ca81b7d0",
   "metadata": {},
   "source": [
    "The pop() method removes an element from the list based on the index given. The clear() method will remove all the elements present in the list."
   ]
  },
  {
   "cell_type": "markdown",
   "id": "03451be8",
   "metadata": {},
   "source": [
    "12. Describe how list values and string values are identical."
   ]
  },
  {
   "cell_type": "markdown",
   "id": "34c173b7",
   "metadata": {},
   "source": [
    "List are mutable but string are immutable,elements of a list can be of different types whereas a String only contains characters that are all of String type. "
   ]
  },
  {
   "cell_type": "markdown",
   "id": "531d986c",
   "metadata": {},
   "source": [
    "13. What's the difference between tuples and lists?"
   ]
  },
  {
   "cell_type": "markdown",
   "id": "dec13b9a",
   "metadata": {},
   "source": [
    "Tuple are immutable but list are mutable, while tuple cannot be changed element while list can be modify."
   ]
  },
  {
   "cell_type": "markdown",
   "id": "57d226c7",
   "metadata": {},
   "source": [
    "14. How do you type a tuple value that only contains the integer 42?"
   ]
  },
  {
   "cell_type": "markdown",
   "id": "ebe6ee49",
   "metadata": {},
   "source": [
    "tup=(42)"
   ]
  },
  {
   "cell_type": "markdown",
   "id": "1fc13899",
   "metadata": {},
   "source": [
    "15. How do you get a list value's tuple form? How do you get a tuple value's list form?"
   ]
  },
  {
   "cell_type": "markdown",
   "id": "2a1bd321",
   "metadata": {},
   "source": [
    "a=[('abc','xyz','hfh'),('absd','sdff')] #list value in tuple form \n",
    "b=([\"ab\",\" sd\",\"rr\"]) # tuple value in list form"
   ]
  },
  {
   "cell_type": "markdown",
   "id": "cde164d2",
   "metadata": {},
   "source": [
    "16. Variables that \"contain\" list values are not necessarily lists themselves. Instead, what do they contain?"
   ]
  },
  {
   "cell_type": "markdown",
   "id": "00158303",
   "metadata": {},
   "source": [
    "list can contain any Python variables, it can even contain other lists."
   ]
  },
  {
   "cell_type": "markdown",
   "id": "75707443",
   "metadata": {},
   "source": [
    "17. How do you distinguish between copy.copy() and copy.deepcopy()?"
   ]
  },
  {
   "cell_type": "markdown",
   "id": "a96c2bd7",
   "metadata": {},
   "source": [
    "copy() create reference to original object.deepcopy() creates new object and does real copying of original object to new one. Changing new deepcopied object doesn't affect original object."
   ]
  }
 ],
 "metadata": {
  "kernelspec": {
   "display_name": "Python 3",
   "language": "python",
   "name": "python3"
  },
  "language_info": {
   "codemirror_mode": {
    "name": "ipython",
    "version": 3
   },
   "file_extension": ".py",
   "mimetype": "text/x-python",
   "name": "python",
   "nbconvert_exporter": "python",
   "pygments_lexer": "ipython3",
   "version": "3.8.8"
  }
 },
 "nbformat": 4,
 "nbformat_minor": 5
}
