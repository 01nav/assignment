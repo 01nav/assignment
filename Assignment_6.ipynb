{
 "cells": [
  {
   "cell_type": "markdown",
   "id": "2a63d35d",
   "metadata": {},
   "source": [
    "1.What are escape characters, and how do you use them?"
   ]
  },
  {
   "cell_type": "markdown",
   "id": "9476a59f",
   "metadata": {},
   "source": [
    "The backslash “ ” is a special character, also called the “escape” character."
   ]
  },
  {
   "cell_type": "markdown",
   "id": "645e9529",
   "metadata": {},
   "source": [
    "2.What do the escape characters n and t stand for?"
   ]
  },
  {
   "cell_type": "markdown",
   "id": "d4731d32",
   "metadata": {},
   "source": [
    "n= new line \n",
    "t= tab"
   ]
  },
  {
   "cell_type": "markdown",
   "id": "2381d65d",
   "metadata": {},
   "source": [
    "3.What is the way to include backslash characters in a string?"
   ]
  },
  {
   "cell_type": "markdown",
   "id": "cde0a79d",
   "metadata": {},
   "source": [
    "you need two backslashes or use the @ verbatim string: var s = \"\\\\Tasks\"; // or var s = @\"\\Tasks\";"
   ]
  },
  {
   "cell_type": "markdown",
   "id": "1bb3a30a",
   "metadata": {},
   "source": [
    "4.The string \"Howl's Moving Castle\" is a correct value. Why isn't the single quote character in the word Howl's not escaped a problem?"
   ]
  },
  {
   "cell_type": "markdown",
   "id": "ed20b7aa",
   "metadata": {},
   "source": [
    "The single quote in Howl's is fine because you've used double quotes to mark the beginning and end of the string."
   ]
  },
  {
   "cell_type": "markdown",
   "id": "3686b675",
   "metadata": {},
   "source": [
    "5.How do you write a string of newlines if you don't want to use the n character?"
   ]
  },
  {
   "cell_type": "markdown",
   "id": "fe106425",
   "metadata": {},
   "source": [
    "end"
   ]
  },
  {
   "cell_type": "markdown",
   "id": "37910430",
   "metadata": {},
   "source": [
    "6.What are the values of the given expressions?"
   ]
  },
  {
   "cell_type": "markdown",
   "id": "dfdee0f7",
   "metadata": {},
   "source": [
    "a='Hello, world!'[1]\n",
    "b='Hello, world!'[0:5]\n",
    "c='Hello, world!'[:5]\n",
    "d='Hello, world!'[3:]\n",
    "print(a)\n",
    "print(b)\n",
    "print(c)\n",
    "print(d)"
   ]
  },
  {
   "cell_type": "markdown",
   "id": "f0030875",
   "metadata": {},
   "source": [
    "7.What are the values of the following expressions?"
   ]
  },
  {
   "cell_type": "markdown",
   "id": "08d19b74",
   "metadata": {},
   "source": [
    "a='Hello'.upper()\n",
    "b='Hello'.upper().isupper()\n",
    "c='Hello'.upper().lower()\n",
    "print(a)\n",
    "print(b)\n",
    "print(c)"
   ]
  },
  {
   "cell_type": "markdown",
   "id": "fb9dbdf6",
   "metadata": {},
   "source": [
    "8.What are the values of the following expressions?"
   ]
  },
  {
   "cell_type": "markdown",
   "id": "7c8065d6",
   "metadata": {},
   "source": [
    "'Remember, remember, the fifth of July.'.split()\n",
    "'-'.join('There can only one.'.split())"
   ]
  },
  {
   "cell_type": "markdown",
   "id": "01b32068",
   "metadata": {},
   "source": [
    "9.What are the methods for right-justifying, left-justifying, and centering a string?"
   ]
  },
  {
   "cell_type": "markdown",
   "id": "dd420370",
   "metadata": {},
   "source": [
    "right-justifying = str.rjust() \n",
    "left-justifing  = str.ljust()\n",
    "center-justifing = str.center()"
   ]
  },
  {
   "cell_type": "markdown",
   "id": "7d41c4f0",
   "metadata": {},
   "source": [
    "10.What is the best way to remove whitespace characters from the start or end?"
   ]
  },
  {
   "cell_type": "markdown",
   "id": "ec225417",
   "metadata": {},
   "source": [
    "trimstart() or trimend()"
   ]
  }
 ],
 "metadata": {
  "kernelspec": {
   "display_name": "Python 3",
   "language": "python",
   "name": "python3"
  },
  "language_info": {
   "codemirror_mode": {
    "name": "ipython",
    "version": 3
   },
   "file_extension": ".py",
   "mimetype": "text/x-python",
   "name": "python",
   "nbconvert_exporter": "python",
   "pygments_lexer": "ipython3",
   "version": "3.8.8"
  }
 },
 "nbformat": 4,
 "nbformat_minor": 5
}
