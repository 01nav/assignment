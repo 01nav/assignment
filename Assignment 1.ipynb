{
 "cells": [
  {
   "cell_type": "raw",
   "id": "defbc928",
   "metadata": {},
   "source": [
    "1. In the below elements which of them are values or an expression? \n",
    "   eg:- values can be integer or string and expressions will be mathematical operators."
   ]
  },
  {
   "cell_type": "raw",
   "id": "98c5bd33",
   "metadata": {},
   "source": [
    "* = experssion\n",
    "'hello' = value\n",
    "-87.8 = value\n",
    "- = experssion\n",
    "/ = experssion\n",
    "+ = experssion\n",
    "6 = value"
   ]
  },
  {
   "cell_type": "raw",
   "id": "3e8317f1",
   "metadata": {},
   "source": [
    "2. What is the difference between string and variable?"
   ]
  },
  {
   "cell_type": "raw",
   "id": "a6d9b0de",
   "metadata": {},
   "source": [
    "String = string can be a writtin in quotes such : \"car\"or'car'\n",
    "Variable = It is the thing in which we can store data just like a container    "
   ]
  },
  {
   "cell_type": "raw",
   "id": "d5062fd1",
   "metadata": {},
   "source": [
    "3. Describe three different data types."
   ]
  },
  {
   "cell_type": "raw",
   "id": "3f34970b",
   "metadata": {},
   "source": [
    "List = the list is used for storing multiple data in a single variable\n",
    "interger = integer can be a numberical values\n",
    "float = float can store only floating values such as 22.3,55.25"
   ]
  },
  {
   "cell_type": "raw",
   "id": "82476d65",
   "metadata": {},
   "source": [
    "4. What is an expression made up of? What do all expressions do?"
   ]
  },
  {
   "cell_type": "raw",
   "id": "c4494bce",
   "metadata": {},
   "source": [
    "Expression is made up of values, container and mathematical operation eg: a=2*3"
   ]
  },
  {
   "cell_type": "raw",
   "id": "55ea95bc",
   "metadata": {},
   "source": [
    "5. This assignment statements, like spam = 10. What is the difference between an expression and a        statement?"
   ]
  },
  {
   "cell_type": "raw",
   "id": "e0ea2f1e",
   "metadata": {},
   "source": [
    "Expression is made up of values, containers, and mathematical operators  and the statement is just like a command that a python interpreter executes like print."
   ]
  },
  {
   "cell_type": "raw",
   "id": "5ff31b30",
   "metadata": {},
   "source": [
    "6. After running the following code, what does the variable bacon contain?\n",
    "bacon = 22\n",
    "bacon + 1"
   ]
  },
  {
   "cell_type": "markdown",
   "id": "bb8c8cc8",
   "metadata": {},
   "source": [
    "bacon = 22"
   ]
  },
  {
   "cell_type": "markdown",
   "id": "287498f0",
   "metadata": {},
   "source": [
    "bacon +1"
   ]
  },
  {
   "cell_type": "raw",
   "id": "4aa330f5",
   "metadata": {},
   "source": [
    "7. What should the values of the following two terms be?\n",
    "   'spam' + 'spamspam'\n",
    "   'spam' * 3"
   ]
  },
  {
   "cell_type": "markdown",
   "id": "7d862189",
   "metadata": {},
   "source": [
    "'spam' + 'spamspam'"
   ]
  },
  {
   "cell_type": "markdown",
   "id": "975741a9",
   "metadata": {},
   "source": [
    "'spam' *3"
   ]
  },
  {
   "cell_type": "raw",
   "id": "e94a341f",
   "metadata": {},
   "source": [
    "8. Why is eggs a valid variable name while 100 is invalid?"
   ]
  },
  {
   "cell_type": "raw",
   "id": "4b629625",
   "metadata": {},
   "source": [
    "Variable names cannot begin with a number"
   ]
  },
  {
   "cell_type": "raw",
   "id": "6e8bc227",
   "metadata": {},
   "source": [
    "9. What three functions can be used to get the integer, floating-point number, or string version of a    value?"
   ]
  },
  {
   "cell_type": "raw",
   "id": "9fb933b7",
   "metadata": {},
   "source": [
    "str()\n",
    "int()\n",
    "float()"
   ]
  },
  {
   "cell_type": "raw",
   "id": "226cedde",
   "metadata": {},
   "source": [
    "10. Why does this expression cause an error? How can you fix it?\n",
    "'I have eaten ' + 99 + ' burritos.'\n"
   ]
  },
  {
   "cell_type": "raw",
   "id": "3b28e81a",
   "metadata": {},
   "source": [
    "can only concatenate str (not \"int\") to str"
   ]
  },
  {
   "cell_type": "code",
   "execution_count": null,
   "id": "02069226",
   "metadata": {},
   "outputs": [],
   "source": []
  }
 ],
 "metadata": {
  "kernelspec": {
   "display_name": "Python 3",
   "language": "python",
   "name": "python3"
  },
  "language_info": {
   "codemirror_mode": {
    "name": "ipython",
    "version": 3
   },
   "file_extension": ".py",
   "mimetype": "text/x-python",
   "name": "python",
   "nbconvert_exporter": "python",
   "pygments_lexer": "ipython3",
   "version": "3.8.8"
  }
 },
 "nbformat": 4,
 "nbformat_minor": 5
}
