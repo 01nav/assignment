{
 "cells": [
  {
   "cell_type": "markdown",
   "id": "c4b3430b",
   "metadata": {},
   "source": [
    "1. To what does a relative path refer?"
   ]
  },
  {
   "cell_type": "markdown",
   "id": "1d56c695",
   "metadata": {},
   "source": [
    "A relative path refers to the location of a file or directory relative to the current working directory of a program or user."
   ]
  },
  {
   "cell_type": "markdown",
   "id": "6f2da7d0",
   "metadata": {},
   "source": [
    "2. What does an absolute path start with your operating system?"
   ]
  },
  {
   "cell_type": "markdown",
   "id": "30787596",
   "metadata": {},
   "source": [
    "C:\\User\\username\\Documents\\file.txt"
   ]
  },
  {
   "cell_type": "markdown",
   "id": "5d847ac6",
   "metadata": {},
   "source": [
    "3. What do the functions os.getcwd() and os.chdir() do?"
   ]
  },
  {
   "cell_type": "raw",
   "id": "5536a8e5",
   "metadata": {},
   "source": [
    "The os.getcwd() function in Python's os module returns the current working directory of the program or process.\n",
    "\n",
    "The os.chdir() function, also from the os module, is used to change the current working directory to the specified directory. It takes a single argument, which is the path to the new directory you want to switch to."
   ]
  },
  {
   "cell_type": "markdown",
   "id": "4811e03e",
   "metadata": {},
   "source": [
    "4. What are the . and .. folders?"
   ]
  },
  {
   "cell_type": "raw",
   "id": "b1fd6cdf",
   "metadata": {},
   "source": [
    "The \".\" directory is a reference to the current directory. When you specify a path that starts with ., it refers to a file or directory in the current directory\n",
    "\n",
    "The \"..\" directory is a reference to the parent directory of the current directory. When you specify a path that starts with .., it refers to a file or directory in the parent directory."
   ]
  },
  {
   "cell_type": "markdown",
   "id": "9fc58bc8",
   "metadata": {},
   "source": [
    "5. In C:\\bacon\\eggs\\spam.txt, which part is the dir name, and which part is the base name?"
   ]
  },
  {
   "cell_type": "markdown",
   "id": "f3ef1171",
   "metadata": {},
   "source": [
    "spam.txt"
   ]
  },
  {
   "cell_type": "markdown",
   "id": "ee442e30",
   "metadata": {},
   "source": [
    "6. What are the three “mode” arguments that can be passed to the open() function?"
   ]
  },
  {
   "cell_type": "raw",
   "id": "f56de517",
   "metadata": {},
   "source": [
    "\"r\" (read mode): Opens a file for reading. The file pointer is placed at the beginning of the file, and if the file does not exist, an error is raised.\n",
    "\n",
    "\"w\" (write mode): Opens a file for writing. If the file already exists, it is truncated (emptied). If the file does not exist, it is created. The file pointer is placed at the beginning of the file.\n",
    "\n",
    "\"a\" (append mode): Opens a file for writing, but appends any new data to the end of the file rather than overwriting the existing file contents. If the file does not exist, it is created.\n"
   ]
  },
  {
   "cell_type": "markdown",
   "id": "f1361a92",
   "metadata": {},
   "source": [
    "7. What happens if an existing file is opened in write mode?"
   ]
  },
  {
   "cell_type": "markdown",
   "id": "a1569c52",
   "metadata": {},
   "source": [
    "If an existing file is opened in write mode using the open() function in Python, the existing contents of the file are truncated (erased) and replaced with any new data that is written to the file.\n",
    "\n",
    "with open('exmp.txt', 'w') as f:\n",
    "    f.write('This is some new data.')\n"
   ]
  },
  {
   "cell_type": "markdown",
   "id": "39ce5c62",
   "metadata": {},
   "source": [
    "8. How do you tell the difference between read() and readlines()?"
   ]
  },
  {
   "cell_type": "markdown",
   "id": "f43229eb",
   "metadata": {},
   "source": [
    "The key difference between read() and readlines() is that read() returns the entire contents of the file as a single string, while readlines() returns a list of strings, where each string represents one line of the file."
   ]
  },
  {
   "cell_type": "markdown",
   "id": "91f7462f",
   "metadata": {},
   "source": [
    "9. What data structure does a shelf value resemble?"
   ]
  },
  {
   "cell_type": "raw",
   "id": "c5984c93",
   "metadata": {},
   "source": [
    "In Python, a shelf is a built-in module that provides a persistent dictionary-like object. The values of a shelf can be any picklable Python object, and are stored on disk in a format that allows them to be easily read and written.\n",
    "\n",
    "The values in a shelf resemble a dictionary in that they are key-value pairs, where each key is a string and each value can be any picklable Python object. However, unlike a dictionary, the values in a shelf are stored on disk and persist between program executions.\n",
    "\n",
    "To work with a shelf object, you can use the shelve module in Python, which provides a simple interface for creating and accessing shelf objects. Here's an example of how to create a shelf object and store some values in it:\n",
    "\n",
    "import shelve\n",
    "\n",
    "=>Create a new shelf object\n",
    "shelf = shelve.open('mydata')\n",
    "\n",
    "=>Add some values to the shelf\n",
    "shelf['name'] = 'Alice'\n",
    "shelf['age'] = 30\n",
    "shelf['hobbies'] = ['reading', 'hiking', 'cooking']\n",
    "\n",
    "=>Close the shelf\n",
    "shelf.close()\n"
   ]
  },
  {
   "cell_type": "code",
   "execution_count": null,
   "id": "515b0e96",
   "metadata": {},
   "outputs": [],
   "source": []
  }
 ],
 "metadata": {
  "kernelspec": {
   "display_name": "Python 3 (ipykernel)",
   "language": "python",
   "name": "python3"
  },
  "language_info": {
   "codemirror_mode": {
    "name": "ipython",
    "version": 3
   },
   "file_extension": ".py",
   "mimetype": "text/x-python",
   "name": "python",
   "nbconvert_exporter": "python",
   "pygments_lexer": "ipython3",
   "version": "3.9.13"
  }
 },
 "nbformat": 4,
 "nbformat_minor": 5
}
