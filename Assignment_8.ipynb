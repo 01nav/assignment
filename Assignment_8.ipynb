{
 "cells": [
  {
   "cell_type": "markdown",
   "id": "50c62c94",
   "metadata": {},
   "source": [
    "1. Is the Python Standard Library included with PyInputPlus?"
   ]
  },
  {
   "cell_type": "markdown",
   "id": "32f0b29a",
   "metadata": {},
   "source": [
    "No, the Python Standard Library is not included with PyInputPlus. PyInputPlus is a separate third-party library for Python that provides additional features for taking input from users, such as input validation, retrying on invalid input, and timeouts."
   ]
  },
  {
   "cell_type": "markdown",
   "id": "5cd07d23",
   "metadata": {},
   "source": [
    "2. Why is PyInputPlus commonly imported with import pyinputplus as pypi?"
   ]
  },
  {
   "cell_type": "raw",
   "id": "f60e9bcd",
   "metadata": {},
   "source": [
    "PyInputPlus is commonly imported with the alias pypi (short for PyPI, which stands for Python Package Index) to make it easier to reference the library in code. The as keyword allows you to specify an alias for a module or package when you import it, which can be useful if the original name is long or if you want to avoid naming conflicts with other parts of your code.\n",
    "\n",
    "import pyinputplus as pypi\n",
    "\n",
    "username = pypi.inputStr(\"Enter your username: \")\n",
    "password = pypi.inputPassword(\"Enter your password: \")\n"
   ]
  },
  {
   "cell_type": "markdown",
   "id": "fa571008",
   "metadata": {},
   "source": [
    "3. How do you distinguish between inputInt() and inputFloat()?"
   ]
  },
  {
   "cell_type": "raw",
   "id": "325fe0a7",
   "metadata": {},
   "source": [
    "The inputInt() and inputFloat() functions in PyInputPlus are used to take input from a user and ensure that the input is an integer or float, respectively. Here are the key differences between the two functions:\n",
    "\n",
    "inputInt() will only accept integer input. If the user enters a value with a decimal point or any other non-numeric characters, an error will be raised.\n",
    "\n",
    "inputFloat() will accept both integer and floating-point input. If the user enters an integer, it will be converted to a float automatically. If the user enters a non-numeric value, an error will be raised."
   ]
  },
  {
   "cell_type": "markdown",
   "id": "3b5f3917",
   "metadata": {},
   "source": [
    "import pyinputplus as pypi\n",
    "\n",
    "num = pypi.inputInt(\"Enter a number between 0 and 99: \", min=0, max=99)\n",
    "\n",
    "print(f\"You entered {num}\")\n"
   ]
  },
  {
   "cell_type": "markdown",
   "id": "84e2cafc",
   "metadata": {},
   "source": [
    "5. What is transferred to the keyword arguments allowRegexes and blockRegexes?"
   ]
  },
  {
   "cell_type": "raw",
   "id": "9075c4aa",
   "metadata": {},
   "source": [
    "The allowRegexes and blockRegexes parameters in PyInputPlus are used to specify regular expressions that either allow or block certain input values, respectively. Here's a brief overview of what each parameter does:\n",
    "\n",
    "allowRegexes: This parameter is a list of regular expressions that are allowed as input values. If the user's input matches any of the regular expressions in this list, it will be accepted. For example, allowRegexes=[r'[A-Z]', r'\\d{3}'] would allow any input that contains an uppercase letter or a three-digit number.\n",
    "\n",
    "blockRegexes: This parameter is a list of regular expressions that are blocked as input values. If the user's input matches any of the regular expressions in this list, it will be rejected. For example, blockRegexes=[r'[^\\w\\s]'] would block any input that contains a non-alphanumeric character."
   ]
  },
  {
   "cell_type": "markdown",
   "id": "e1b3c545",
   "metadata": {},
   "source": [
    "6. If a blank input is entered three times, what does inputStr(limit=3) do?"
   ]
  },
  {
   "cell_type": "markdown",
   "id": "800f8123",
   "metadata": {},
   "source": [
    "import pyinputplus as pypi\n",
    "\n",
    "username = pypi.inputStr(\"Enter your username: \", limit=3)\n",
    "\n",
    "print(f\"Your username is {username}\")"
   ]
  },
  {
   "cell_type": "markdown",
   "id": "f47ea8e3",
   "metadata": {},
   "source": [
    "7. If blank input is entered three times, what does inputStr(limit=3, default='hello') do?"
   ]
  },
  {
   "cell_type": "markdown",
   "id": "49d6d233",
   "metadata": {},
   "source": [
    "import pyinputplus as pypi\n",
    "\n",
    "username = pypi.inputStr(\"Enter your username: \", limit=3, default='Guest')\n",
    "\n",
    "print(f\"Your username is {username}\")\n"
   ]
  },
  {
   "cell_type": "code",
   "execution_count": null,
   "id": "5816b0a9",
   "metadata": {},
   "outputs": [],
   "source": []
  }
 ],
 "metadata": {
  "kernelspec": {
   "display_name": "Python 3 (ipykernel)",
   "language": "python",
   "name": "python3"
  },
  "language_info": {
   "codemirror_mode": {
    "name": "ipython",
    "version": 3
   },
   "file_extension": ".py",
   "mimetype": "text/x-python",
   "name": "python",
   "nbconvert_exporter": "python",
   "pygments_lexer": "ipython3",
   "version": "3.9.13"
  }
 },
 "nbformat": 4,
 "nbformat_minor": 5
}
